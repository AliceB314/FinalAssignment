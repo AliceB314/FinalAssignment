{
 "cells": [
  {
   "cell_type": "markdown",
   "id": "ba40de23-3fa5-4bbe-9aa8-65b77b87cae0",
   "metadata": {},
   "source": [
    "## Data Science Tools and Ecosystem"
   ]
  },
  {
   "cell_type": "markdown",
   "id": "97eb07dd-f3af-4f0d-b38d-1f871f649084",
   "metadata": {},
   "source": [
    "Objectives:\n",
    "+ List popular Data Science languages\n",
    "+ List popular Data Science libraries\n",
    "+ Show arithmetic expressions "
   ]
  },
  {
   "cell_type": "markdown",
   "id": "ed40514d-f17f-4ec9-8c10-24d3090e2400",
   "metadata": {},
   "source": [
    "In this notebook, Data Science Tools and Ecosystem are summarized"
   ]
  },
  {
   "cell_type": "markdown",
   "id": "6d9117a3-5be8-4024-a858-1107a344e5f5",
   "metadata": {},
   "source": [
    "Some of the popular languages that Data Scientists use are: \n",
    "1. R\n",
    "2. Python\n",
    "3. Julia"
   ]
  },
  {
   "cell_type": "markdown",
   "id": "716995ca-9337-4a7a-81e3-5a847b1292e2",
   "metadata": {},
   "source": [
    "Some of the commonly used libraries used by Data Scientists include:\n",
    "1. TensorFlow\n",
    "3. NumPy\n",
    "5. Pandas"
   ]
  },
  {
   "cell_type": "markdown",
   "id": "b8e8ea28-8317-42ba-ae35-17e51e9e3b91",
   "metadata": {},
   "source": [
    "|Data Science Tools|\n",
    "|---|\n",
    "|KNIME|\n",
    "|Tableau|\n",
    "|Matplotliib|"
   ]
  },
  {
   "cell_type": "markdown",
   "id": "4df8a6d0-7550-43ed-a328-4113dda01471",
   "metadata": {},
   "source": [
    "### Below are a few examples of evaluating arithmetic expressions in Python"
   ]
  },
  {
   "cell_type": "markdown",
   "id": "b2c5d248-ccdc-4a0d-98ff-73cc09524c60",
   "metadata": {},
   "source": [
    "#This is a simple arithmetic expression to mutiply then add integers\n",
    "(3*4)+5\n"
   ]
  },
  {
   "cell_type": "markdown",
   "id": "810fb50c-6dbd-45ad-8fa2-9a69cfd89d1c",
   "metadata": {},
   "source": [
    "# This will convert 200 minutes to hours by dividing by 60 "
   ]
  },
  {
   "cell_type": "code",
   "execution_count": 67,
   "id": "8710e298-56b2-403f-a694-79ff6b273b4f",
   "metadata": {},
   "outputs": [
    {
     "data": {
      "text/plain": [
       "3.3333333333333335"
      ]
     },
     "execution_count": 67,
     "metadata": {},
     "output_type": "execute_result"
    }
   ],
   "source": [
    "200/60"
   ]
  },
  {
   "cell_type": "markdown",
   "id": "ba2eaee1-7536-4176-a09a-d7e5a5c7e185",
   "metadata": {},
   "source": [
    "## Author"
   ]
  },
  {
   "cell_type": "markdown",
   "id": "fa4e4f94-c467-4e95-b911-fcf7320cfa04",
   "metadata": {},
   "source": [
    "Ashlee \"Annie\" Apken"
   ]
  }
 ],
 "metadata": {
  "kernelspec": {
   "display_name": "Python 3 (ipykernel)",
   "language": "python",
   "name": "python3"
  },
  "language_info": {
   "codemirror_mode": {
    "name": "ipython",
    "version": 3
   },
   "file_extension": ".py",
   "mimetype": "text/x-python",
   "name": "python",
   "nbconvert_exporter": "python",
   "pygments_lexer": "ipython3",
   "version": "3.12.4"
  }
 },
 "nbformat": 4,
 "nbformat_minor": 5
}
